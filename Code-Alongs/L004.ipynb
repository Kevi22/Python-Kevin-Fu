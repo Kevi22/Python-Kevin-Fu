{
 "cells": [
  {
   "cell_type": "markdown",
   "metadata": {},
   "source": [
    "# L004\n",
    "- if\n",
    "- elsif\n",
    "- else"
   ]
  },
  {
   "cell_type": "code",
   "execution_count": 12,
   "metadata": {},
   "outputs": [
    {
     "name": "stdout",
     "output_type": "stream",
     "text": [
      "No!\n"
     ]
    }
   ],
   "source": [
    "x = 50\n",
    "if x <10:\n",
    "    print(\"yes!\")\n",
    "\n",
    "else:\n",
    "    print(\"No!\")\n",
    "\n"
   ]
  },
  {
   "cell_type": "code",
   "execution_count": 13,
   "metadata": {},
   "outputs": [
    {
     "name": "stdout",
     "output_type": "stream",
     "text": [
      "Please wait 5 seconds\n"
     ]
    }
   ],
   "source": [
    "seconds = 5\n",
    "print(f\"Please wait {seconds} second{'s' if seconds != 1 else''}\")"
   ]
  },
  {
   "cell_type": "markdown",
   "metadata": {},
   "source": [
    " ## L005\n",
    " - While loops\n",
    " - the break statment\n",
    " - the countinue statment\n",
    " - the else statment in loops"
   ]
  },
  {
   "cell_type": "code",
   "execution_count": null,
   "metadata": {},
   "outputs": [],
   "source": [
    "while True:\n",
    "    print (\"hello world\")\n",
    "\n",
    "print(\"end.\")\n"
   ]
  },
  {
   "cell_type": "code",
   "execution_count": null,
   "metadata": {},
   "outputs": [],
   "source": [
    "counter = 10\n",
    "while counter > 0:\n",
    "    print (f\"{counter:2d}: hello world\")\n",
    "    counter -= 2\n",
    "\n",
    "print(\"end.\")\n"
   ]
  },
  {
   "cell_type": "code",
   "execution_count": null,
   "metadata": {},
   "outputs": [],
   "source": [
    "counter = 10\n",
    "\n",
    "while True:\n",
    "    print (f\"{counter:2d}: hello world\")    \n",
    "    counter -=1\n",
    "    if counter <= 5: break\n",
    "\n",
    "print(\"End.\")\n"
   ]
  },
  {
   "cell_type": "code",
   "execution_count": 33,
   "metadata": {},
   "outputs": [
    {
     "name": "stdout",
     "output_type": "stream",
     "text": [
      "1\n",
      "2\n",
      "3\n",
      "4\n",
      "5\n",
      "6\n",
      "7\n",
      "8\n",
      "9\n",
      "10\n",
      "End.\n"
     ]
    }
   ],
   "source": [
    "counter = 0 \n",
    "while counter < 10:\n",
    "    counter += 1\n",
    "    print(counter)\n",
    "\n",
    "print(\"End.\")"
   ]
  },
  {
   "cell_type": "code",
   "execution_count": null,
   "metadata": {},
   "outputs": [],
   "source": [
    "counter = 0 \n",
    "while counter < 5:\n",
    "    counter += 1\n",
    "    print(f\"{counter}: print this!\")\n",
    "    if (counter < 3): continue\n",
    "    print(\"Don't print this!\")\n",
    "\n",
    "print(\"End.\")"
   ]
  },
  {
   "cell_type": "code",
   "execution_count": null,
   "metadata": {},
   "outputs": [],
   "source": [
    "counter = 10\n",
    "while counter > 0:\n",
    "    print (f\"{counter:2d}: hello world\")\n",
    "    counter -= 2    \n",
    "    #break\n",
    "\n",
    "else:\n",
    "    print(\"End.\")\n",
    "\n"
   ]
  }
 ],
 "metadata": {
  "kernelspec": {
   "display_name": "Python 3",
   "language": "python",
   "name": "python3"
  },
  "language_info": {
   "codemirror_mode": {
    "name": "ipython",
    "version": 3
   },
   "file_extension": ".py",
   "mimetype": "text/x-python",
   "name": "python",
   "nbconvert_exporter": "python",
   "pygments_lexer": "ipython3",
   "version": "3.11.5"
  },
  "orig_nbformat": 4
 },
 "nbformat": 4,
 "nbformat_minor": 2
}
