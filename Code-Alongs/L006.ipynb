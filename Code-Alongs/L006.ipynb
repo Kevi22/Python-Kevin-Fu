{
 "cells": [
  {
   "cell_type": "markdown",
   "metadata": {},
   "source": [
    "# For loops\n",
    "A for loops is used to iterating over a sequance. (Example: a list, a string, dictionary, or a range)"
   ]
  },
  {
   "cell_type": "code",
   "execution_count": 3,
   "metadata": {},
   "outputs": [
    {
     "name": "stdout",
     "output_type": "stream",
     "text": [
      "Tesla\n",
      "Volvo\n",
      "Audi\n",
      "Nio\n",
      "BMW\n"
     ]
    }
   ],
   "source": [
    "# Example: Interating over the items in a list:\n",
    "cars = [\"Tesla\", \"Volvo\", \"Audi\", \"Nio\", \"BMW\"]\n",
    "\n",
    "for car in cars:\n",
    "    print(car)"
   ]
  },
  {
   "cell_type": "code",
   "execution_count": 12,
   "metadata": {},
   "outputs": [
    {
     "name": "stdout",
     "output_type": "stream",
     "text": [
      "Using only stop value:\n",
      "0\n",
      "1\n",
      "2\n",
      "3\n",
      "4\n",
      "\n",
      "Using start stop and step values(steps defaults to 1):\n",
      "10\n",
      "12\n",
      "\n",
      "Using start stop and step values(steps defaults to 1):\n"
     ]
    }
   ],
   "source": [
    "#Example 2, interating over a range\n",
    "print(\"Using only stop value:\")\n",
    "for i in range(5):\n",
    "    print(i)\n",
    "print(\"\\nUsing start stop and step values(steps defaults to 1):\")\n",
    "for i in range(10, 13, 2):\n",
    "    print(i)\n",
    "\n",
    "print(\"\\nUsing start stop and step values(steps defaults to 1):\")\n",
    "for i in range(20, 13, 2):\n",
    "    print(i)"
   ]
  },
  {
   "cell_type": "code",
   "execution_count": 22,
   "metadata": {},
   "outputs": [
    {
     "name": "stdout",
     "output_type": "stream",
     "text": [
      "01234\n",
      "01234\n",
      "01234\n"
     ]
    }
   ],
   "source": [
    "#loop within a loop \n",
    "#end=\"\" i samma rad\n",
    "\n",
    "for y in range(3):\n",
    "    for x in range(5):\n",
    "        print(x, end=\"\")\n",
    "    print()\n"
   ]
  },
  {
   "cell_type": "markdown",
   "metadata": {},
   "source": [
    "# Lists\n"
   ]
  },
  {
   "cell_type": "markdown",
   "metadata": {},
   "source": [
    "#indexering \n",
    "- list items are indexed, the first item has idex [0], the seconed item has index one,etc \n",
    "- Make sure the index exists, or program will crash with a \"index out of range\" message\n",
    "- Neagtive indexing: -1 refers to the last item, -2 refers to second last item etc. (python)\n",
    "- slicing: specifying a ragnge of indexes returns a new list with the specidield items. (start stop step(optonail))\n",
    "- "
   ]
  }
 ],
 "metadata": {
  "kernelspec": {
   "display_name": "Python 3",
   "language": "python",
   "name": "python3"
  },
  "language_info": {
   "codemirror_mode": {
    "name": "ipython",
    "version": 3
   },
   "file_extension": ".py",
   "mimetype": "text/x-python",
   "name": "python",
   "nbconvert_exporter": "python",
   "pygments_lexer": "ipython3",
   "version": "3.11.5"
  },
  "orig_nbformat": 4
 },
 "nbformat": 4,
 "nbformat_minor": 2
}
