{
 "cells": [
  {
   "cell_type": "markdown",
   "metadata": {},
   "source": [
    "#strings \n",
    "- Data type used in python for storing text\n",
    "- Literal values with single or doubl qoutes. 'single', 'double'\n"
   ]
  },
  {
   "cell_type": "markdown",
   "metadata": {},
   "source": [
    "# Concatenate   \n",
    "\n",
    "In python we can conncatante two or more string using the + operator"
   ]
  },
  {
   "cell_type": "code",
   "execution_count": null,
   "metadata": {},
   "outputs": [],
   "source": [
    "String1 = \"hello\"\n",
    "String2 = \"world\"\n",
    "\n",
    "string3 = string2 + string3\n",
    "\n",
    "print (string)\n",
    "string3 = string1 + \" \" + String2\n",
    "\n",
    "print(string)\n"
   ]
  },
  {
   "cell_type": "markdown",
   "metadata": {},
   "source": [
    "multiline strings\n",
    "python allows string literals to span multiple rows if started and ended, by \"\"\"\""
   ]
  },
  {
   "cell_type": "code",
   "execution_count": 4,
   "metadata": {},
   "outputs": [
    {
     "name": "stdout",
     "output_type": "stream",
     "text": [
      "this    \n",
      "is\n",
      "an exemple!\n",
      "\n",
      "this\n",
      "is \n",
      "another \n",
      "example!\n"
     ]
    }
   ],
   "source": [
    "text  = \"\"\"this    \n",
    "is\n",
    "an exemple!\"\"\"  \n",
    "\n",
    "print (text)\n",
    "\n",
    "print()\n",
    "if True: \n",
    "    text = \"\"\"this\n",
    "is \n",
    "another \n",
    "example!\"\"\"\n",
    "\n",
    "    print(text)\n"
   ]
  },
  {
   "cell_type": "markdown",
   "metadata": {},
   "source": [
    "# Indexting and slicing\n"
   ]
  },
  {
   "cell_type": "code",
   "execution_count": 10,
   "metadata": {},
   "outputs": [
    {
     "name": "stdout",
     "output_type": "stream",
     "text": [
      "name = 'Kevin'\n",
      "name[:1] = 'K'\n",
      "name[:-1] = 'Kevi'\n",
      "name[:3] = 'Kev'\n"
     ]
    }
   ],
   "source": [
    "name =\"Kevin\"\n",
    "print(f\"{name = }\")\n",
    "print(f\"{name[:1] = }\")\n",
    "print(f\"{name[:-1] = }\")\n",
    "print(f\"{name[:3] = }\")"
   ]
  },
  {
   "cell_type": "code",
   "execution_count": 11,
   "metadata": {},
   "outputs": [
    {
     "name": "stdout",
     "output_type": "stream",
     "text": [
      "k\n",
      "e\n",
      "v\n",
      "i\n",
      "n\n"
     ]
    }
   ],
   "source": [
    "name = \"kevin\"\n",
    "\n",
    "for char in name:\n",
    "    print(char)"
   ]
  },
  {
   "cell_type": "markdown",
   "metadata": {},
   "source": [
    "# memebership operator with string\n"
   ]
  },
  {
   "cell_type": "code",
   "execution_count": 15,
   "metadata": {},
   "outputs": [
    {
     "name": "stdout",
     "output_type": "stream",
     "text": [
      "'kev' in name = False\n",
      " name in 'Kevin F' = True\n",
      "'dewqe' not in  'adsdadasf' = True\n"
     ]
    }
   ],
   "source": [
    "name = \"Kevin\"\n",
    "\n",
    "print(f\"{'kev' in name = }\")\n",
    "print(f\"{ name in 'Kevin F' = }\")\n",
    "print(f\"{'dewqe' not in  'adsdadasf' = }\")"
   ]
  },
  {
   "cell_type": "code",
   "execution_count": 17,
   "metadata": {},
   "outputs": [
    {
     "name": "stdout",
     "output_type": "stream",
     "text": [
      "hello\tword\n",
      "here is another example\n"
     ]
    }
   ],
   "source": [
    "escaped_text = \"hello\\tword\\nhere is another example\"\n",
    "print(escaped_text)"
   ]
  },
  {
   "cell_type": "code",
   "execution_count": 39,
   "metadata": {},
   "outputs": [
    {
     "name": "stdout",
     "output_type": "stream",
     "text": [
      "\"hello world\".upper() = 'HELLO WORLD'\n",
      "\"hello world\".title() = 'Hello World'\n",
      "\"hello world\".lower() = 'hello world'\n",
      "\"hello world\".startswith(\"hello\") = True\n",
      "\"hello world\".endswith(\"hello\") = False\n",
      "\n",
      "Strip whitespace from start/end of string:\n",
      "\"         hello world          \".strip() = 'hello world'\n",
      "\"         hello world          \".lstrip() = 'hello world          '\n",
      "\"         hello world          \".rstrip() = '         hello world'\n",
      "\n",
      "join multiple string\n",
      "\",\".join([\"Kevin\", \"Fredrik\", \"William\"]) = 'Kevin,Fredrik,William'\n",
      "\"this is another example\".split() = ['this', 'is', 'another', 'example']\n",
      "\"this is another example\".split(\"a\") = ['this is ', 'nother ex', 'mple']\n",
      "\"Apple, Orange, Pear, Banana\" .split(\",\") = ['Apple', ' Orange', ' Pear', ' Banana']\n",
      "\\Replace part of string\n",
      "\"this is another example\".replace(\"another\", \"just an\") = 'this is just an example'\n"
     ]
    }
   ],
   "source": [
    "print(f'{\"hello world\".upper() = }')\n",
    "print(f'{\"hello world\".title() = }')\n",
    "print(f'{\"hello world\".lower() = }')\n",
    "\n",
    "\n",
    "# check if string starts or ends w substring\n",
    "print(f'{\"hello world\".startswith(\"hello\") = }')\n",
    "print(f'{\"hello world\".endswith(\"hello\") = }')\n",
    "\n",
    "print(\"\\nStrip whitespace from start/end of string:\")\n",
    "print(f'{\"         hello world          \".strip() = }')\n",
    "print(f'{\"         hello world          \".lstrip() = }')\n",
    "print(f'{\"         hello world          \".rstrip() = }')\n",
    "\n",
    "print(\"\\njoin multiple string\")\n",
    "print(f'{\",\".join([\"Kevin\", \"Fredrik\", \"William\"]) = }')\n",
    "print(f'{\"this is another example\".split() = }')\n",
    "print(f'{\"this is another example\".split(\"a\") = }')\n",
    "print(f'{\"Apple, Orange, Pear, Banana\" .split(\",\") = }')\n",
    "\n",
    "print(\"\\Replace part of string\")\n",
    "print(f'{\"this is another example\".replace(\"another\", \"just an\") = }')\n",
    "\n",
    "\n"
   ]
  },
  {
   "cell_type": "code",
   "execution_count": 35,
   "metadata": {},
   "outputs": [
    {
     "name": "stdout",
     "output_type": "stream",
     "text": [
      "['detta', 'är', 'en', 'test']\n",
      "detta\n",
      "är\n",
      "en\n",
      "test\n"
     ]
    }
   ],
   "source": [
    "text = input(\"Enter some text: \")\n",
    "\n",
    "words = text.split()\n",
    "\n",
    "print(words)\n",
    "\n",
    "for word in words:\n",
    "    print(word)\n",
    "    "
   ]
  },
  {
   "cell_type": "code",
   "execution_count": 40,
   "metadata": {},
   "outputs": [
    {
     "name": "stdout",
     "output_type": "stream",
     "text": [
      "Kevin\n"
     ]
    }
   ],
   "source": [
    "data = \"Kevin, 24\"\n",
    "\n",
    "index = data.find(\",\")\n",
    "name = data[:index]\n",
    "print(name)"
   ]
  }
 ],
 "metadata": {
  "kernelspec": {
   "display_name": "Python 3",
   "language": "python",
   "name": "python3"
  },
  "language_info": {
   "codemirror_mode": {
    "name": "ipython",
    "version": 3
   },
   "file_extension": ".py",
   "mimetype": "text/x-python",
   "name": "python",
   "nbconvert_exporter": "python",
   "pygments_lexer": "ipython3",
   "version": "3.11.5"
  },
  "orig_nbformat": 4
 },
 "nbformat": 4,
 "nbformat_minor": 2
}
