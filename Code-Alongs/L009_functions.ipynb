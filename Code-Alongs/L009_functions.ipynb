{
 "cells": [
  {
   "cell_type": "markdown",
   "metadata": {},
   "source": [
    "# Functions\n",
    "- A function is a block of code which only runs when it is call.\n",
    "- In python a function is defined using **def** keyword\n",
    "- Definition must come before call.\n",
    "- To call a function, use functioname followed by parenthesis.\n"
   ]
  },
  {
   "cell_type": "code",
   "execution_count": null,
   "metadata": {},
   "outputs": [],
   "source": [
    "def greet(name): \n",
    "    print(\"Hello \" + name + \"!\")\n",
    "\n",
    "def greet_people(people):\n",
    "    for person in people:\n",
    "        greet(person)\n",
    "\n",
    "people = [\"Kevin\", \"Jonas\", \"Bob\"]\n",
    "greet_people(people)\n",
    "\n",
    "fruits = [\"Apple\", \"Banana\", \"Kiwi\"]\n",
    "greet_people(fruits)"
   ]
  },
  {
   "cell_type": "code",
   "execution_count": 17,
   "metadata": {},
   "outputs": [
    {
     "name": "stdout",
     "output_type": "stream",
     "text": [
      "Kevin\n",
      "Hello Jonas!\n",
      "Hello Bob!\n"
     ]
    }
   ],
   "source": [
    "# Example of function returning a value\n",
    "\n",
    "def get_greeting(name):\n",
    "    greeting = \"Hello \" + name + \"!\"\n",
    "    if name == \"Kevin\":\n",
    "        return name\n",
    "    else:\n",
    "        return greeting\n",
    "print(get_greeting(\"Kevin\"))\n",
    "print(get_greeting(\"Jonas\"))\n",
    "\n",
    "my_greeting = get_greeting(\"Bob\")\n",
    "print(my_greeting)"
   ]
  },
  {
   "cell_type": "code",
   "execution_count": 19,
   "metadata": {},
   "outputs": [
    {
     "name": "stdout",
     "output_type": "stream",
     "text": [
      "HelloKevin!\n",
      "HelloKevin!\n",
      "HelloKevin!\n",
      "HelloKevin!\n",
      "HelloKevin!\n",
      "HelloJonas!\n"
     ]
    }
   ],
   "source": [
    "def greet(name, number_of_times = 1):\n",
    "    for i in range(number_of_times):\n",
    "        print(\"Hello\" + name + \"!\")\n",
    "\n",
    "greet(\"Kevin\", 5)\n",
    "greet(\"Jonas\")"
   ]
  }
 ],
 "metadata": {
  "kernelspec": {
   "display_name": "Python 3",
   "language": "python",
   "name": "python3"
  },
  "language_info": {
   "codemirror_mode": {
    "name": "ipython",
    "version": 3
   },
   "file_extension": ".py",
   "mimetype": "text/x-python",
   "name": "python",
   "nbconvert_exporter": "python",
   "pygments_lexer": "ipython3",
   "version": "3.11.5"
  },
  "orig_nbformat": 4
 },
 "nbformat": 4,
 "nbformat_minor": 2
}
