{
 "cells": [
  {
   "cell_type": "markdown",
   "metadata": {},
   "source": [
    "# Dictonaries\n",
    "- Dictonaries are used to store data in key-value pairs.\n"
   ]
  },
  {
   "cell_type": "code",
   "execution_count": 27,
   "metadata": {},
   "outputs": [
    {
     "name": "stdout",
     "output_type": "stream",
     "text": [
      "len(teacher) = 5\n",
      "teacher[\"contactinfo\"][\"email\"][1] = 'fredrik@gmail.com'\n",
      "teacher = {'firstname': 'Fredrik', 'age': 42, 'language2': ['python', 'c#', 'Javascript'], 'contactinfo': {'phone': '0702345678', 'email': ['fredrik@everloop.com', 'fredrik@gmail.com', 'fredrik.johansson@hotmail.com']}, 'length': 1.8}\n",
      "removed_value= 'Johansson'\n"
     ]
    }
   ],
   "source": [
    "#create empty disctionary\n",
    "empty_discotionary = {}\n",
    "\n",
    "teacher = {\n",
    "    \"firstname\": \"Fredrik\",\n",
    "     \"lastname\": \"Johansson\", \n",
    "     \"age\": 42,\n",
    "     \"language2\" : [\"python\", \"c#\", \"Javascript\"],\n",
    "     \"contactinfo\": {\n",
    "        \"phone\": \"0702345678\",\n",
    "        \"email\": [\n",
    "            \"fredrik@everloop.com\",  \n",
    "            \"fredrik@gmail.com\",\n",
    "            \"fredrik.johansson@hotmail.com\",\n",
    "        ]\n",
    "                \n",
    "     }\n",
    "     } \n",
    "\n",
    "print(f\"{len(teacher) = }\")\n",
    "\n",
    "print(f'{teacher[\"contactinfo\"][\"email\"][1] = }')\n",
    "teacher[\"length\"] = 1.80\n",
    "\n",
    "\n",
    "\n",
    "\n",
    "removed_value = teacher.pop(\"lastname\")\n",
    "print(f\"{teacher = }\")\n",
    "print(f\"{removed_value= }\")\n",
    "\n"
   ]
  },
  {
   "cell_type": "code",
   "execution_count": 34,
   "metadata": {},
   "outputs": [
    {
     "name": "stdout",
     "output_type": "stream",
     "text": [
      "not found\n"
     ]
    }
   ],
   "source": [
    "key = input(\"enter key: \")\n",
    "if key in teacher:\n",
    "    print(teacher[key])\n",
    "\n",
    "else:\n",
    "    print(\"not found\")"
   ]
  },
  {
   "cell_type": "code",
   "execution_count": 36,
   "metadata": {},
   "outputs": [
    {
     "name": "stdout",
     "output_type": "stream",
     "text": [
      "42\n"
     ]
    }
   ],
   "source": [
    "#better method\n",
    "key = input(\"enter key: \")\n",
    "print(teacher.get(key))\n"
   ]
  },
  {
   "cell_type": "code",
   "execution_count": 45,
   "metadata": {},
   "outputs": [
    {
     "name": "stdout",
     "output_type": "stream",
     "text": [
      "firstname\n",
      "age\n",
      "language2\n",
      "contactinfo\n",
      "length\n",
      "Fredrik\n",
      "42\n",
      "['python', 'c#', 'Javascript']\n",
      "{'phone': '0702345678', 'email': ['fredrik@everloop.com', 'fredrik@gmail.com', 'fredrik.johansson@hotmail.com']}\n",
      "1.8\n",
      "firstname = Fredrik\n",
      "age = 42\n",
      "language2 = ['python', 'c#', 'Javascript']\n",
      "contactinfo = {'phone': '0702345678', 'email': ['fredrik@everloop.com', 'fredrik@gmail.com', 'fredrik.johansson@hotmail.com']}\n",
      "length = 1.8\n",
      "\n",
      "firstname = Fredrik\n",
      "age = 42\n",
      "language2 = ['python', 'c#', 'Javascript']\n",
      "contactinfo = {'phone': '0702345678', 'email': ['fredrik@everloop.com', 'fredrik@gmail.com', 'fredrik.johansson@hotmail.com']}\n",
      "length = 1.8\n"
     ]
    }
   ],
   "source": [
    "#looping through dictionary\n",
    "\n",
    "for key in teacher.keys():\n",
    "    print(key)\n",
    "\n",
    "for value in teacher.values():\n",
    "    print(value)\n",
    "\n",
    "\n",
    "for key in teacher:\n",
    "    print(f'{key} = {teacher[key]}')\n",
    "\n",
    "print()\n",
    "\n",
    "for key, value in teacher.items():\n",
    "    print(f'{key} = {value}')"
   ]
  }
 ],
 "metadata": {
  "kernelspec": {
   "display_name": "Python 3",
   "language": "python",
   "name": "python3"
  },
  "language_info": {
   "codemirror_mode": {
    "name": "ipython",
    "version": 3
   },
   "file_extension": ".py",
   "mimetype": "text/x-python",
   "name": "python",
   "nbconvert_exporter": "python",
   "pygments_lexer": "ipython3",
   "version": "3.11.5"
  },
  "orig_nbformat": 4
 },
 "nbformat": 4,
 "nbformat_minor": 2
}
