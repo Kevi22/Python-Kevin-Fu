{
 "cells": [
  {
   "cell_type": "code",
   "execution_count": null,
   "metadata": {},
   "outputs": [],
   "source": []
  },
  {
   "cell_type": "markdown",
   "metadata": {},
   "source": [
    "## Dunder methods (double underscore __)\n",
    "\n",
    "\\__init__()Is called when a new object instance is created. The purpose is to initialize the object"
   ]
  },
  {
   "cell_type": "code",
   "execution_count": null,
   "metadata": {},
   "outputs": [],
   "source": [
    "class Cat:\n",
    "    def __init__(self, name):\n",
    "        self.name = name\n",
    "    \n",
    "    def __str__(self):\n",
    "        return self.name\n",
    "\n",
    "    def __repr__(self):\n",
    "         return f'Cat(\"{self.name}\")'\n",
    "\n",
    "my_cat = Cat(\"Mjau\")\n",
    "\n",
    "my_int = 5\n",
    "my_bool = True\n",
    "my_string = str(my_cat)\n",
    "\n",
    "print(f\"my_cat = {my_cat}\")\n",
    "print(repr(my_cat))"
   ]
  },
  {
   "cell_type": "code",
   "execution_count": null,
   "metadata": {},
   "outputs": [],
   "source": [
    "my_cat = Cat(\"Mjau\")\n",
    "print(repr(my_cat))\n",
    "copycat = eval(repr(my_cat))\n",
    "copycat.name"
   ]
  },
  {
   "cell_type": "code",
   "execution_count": null,
   "metadata": {},
   "outputs": [],
   "source": [
    "x = 5\n",
    "eval(\"print(x)\")\n"
   ]
  },
  {
   "cell_type": "code",
   "execution_count": null,
   "metadata": {},
   "outputs": [],
   "source": [
    "cats = [Cat(\"Mjau\"), Cat(\"Pelle\"), Cat(\"Måns\")]\n",
    "\n",
    "for cat in cats:\n",
    "    print(cat, True, 1.5, \"Hello\")"
   ]
  }
 ],
 "metadata": {
  "language_info": {
   "name": "python"
  },
  "orig_nbformat": 4
 },
 "nbformat": 4,
 "nbformat_minor": 2
}
