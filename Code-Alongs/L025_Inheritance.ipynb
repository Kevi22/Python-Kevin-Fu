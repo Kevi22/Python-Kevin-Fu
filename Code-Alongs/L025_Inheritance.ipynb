{
 "cells": [
  {
   "cell_type": "code",
   "execution_count": 57,
   "metadata": {},
   "outputs": [
    {
     "name": "stdout",
     "output_type": "stream",
     "text": [
      "Pelle is running\n",
      "karo is running\n",
      "karo is barking: VOFF!\n",
      "Kalle is running\n",
      "Kalle is barking: voff!\n",
      "Nemo is swimming\n"
     ]
    }
   ],
   "source": [
    "class Animal:\n",
    "    def __init__(self,name):\n",
    "        self.name = name\n",
    "       \n",
    "    \n",
    "    def __str__(self):\n",
    "        return (f\"My name is {self.name} and I am a {type(self)}\") \n",
    "    def move(self):\n",
    "        print(f\"{self.name} is running\")\n",
    "    \n",
    "\n",
    "class Cat(Animal):\n",
    "    ...\n",
    "\n",
    "class Dog(Animal):\n",
    "    def __init__(self, name, is_loud):\n",
    "        super().__init__(name)\n",
    "        self.is_loud = is_loud\n",
    "    def _get_voff(self):\n",
    "        return \"VOFF\" if self.is_loud else \"voff\"\n",
    "    def bark(self):\n",
    "\n",
    "            print(f\"{self.name} is barking: {self._get_voff()}!\")\n",
    "\n",
    "\n",
    "\n",
    "    \n",
    "class Fish(Animal):\n",
    "     def move(self):\n",
    "        print(f\"{self.name} is swimming\")\n",
    "    \n",
    "animals = [\n",
    " Cat (\"Pelle\"),\n",
    " Dog(\"karo\", is_loud = True),\n",
    " Dog(\"Kalle\", is_loud = False),\n",
    " Fish(\"Nemo\")\n",
    "]\n",
    "\n",
    "for animal in animals:\n",
    "    animal.move()\n",
    "    # if hasattr(animal, \"bark\"):\n",
    "    # if type (animal) == Dog:\n",
    "    if isinstance(animal, Dog):\n",
    "        animal.bark()"
   ]
  },
  {
   "cell_type": "code",
   "execution_count": 34,
   "metadata": {},
   "outputs": [
    {
     "name": "stdout",
     "output_type": "stream",
     "text": [
      "isinstance(my_cat, Cat) = True\n",
      "isinstance(my_cat, Dog) = False\n",
      "isinstance(my_cat, Animal) = True\n",
      "isinstance(my_cat, object) = True\n"
     ]
    }
   ],
   "source": [
    "my_cat = Cat(\"Pelle\")\n",
    "print(f\"{isinstance(my_cat, Cat) = }\")\n",
    "print(f\"{isinstance(my_cat, Dog) = }\")\n",
    "print(f\"{isinstance(my_cat, Animal) = }\")\n",
    "print(f\"{isinstance(my_cat, object) = }\")"
   ]
  }
 ],
 "metadata": {
  "kernelspec": {
   "display_name": "Python 3",
   "language": "python",
   "name": "python3"
  },
  "language_info": {
   "codemirror_mode": {
    "name": "ipython",
    "version": 3
   },
   "file_extension": ".py",
   "mimetype": "text/x-python",
   "name": "python",
   "nbconvert_exporter": "python",
   "pygments_lexer": "ipython3",
   "version": "3.11.5"
  },
  "orig_nbformat": 4
 },
 "nbformat": 4,
 "nbformat_minor": 2
}
