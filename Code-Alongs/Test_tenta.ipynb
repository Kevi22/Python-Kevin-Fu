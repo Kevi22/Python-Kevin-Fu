{
 "cells": [
  {
   "cell_type": "code",
   "execution_count": null,
   "metadata": {},
   "outputs": [],
   "source": [
    "class Animal:\n",
    "    def __init__(self, name):\n",
    "        self.name = name\n",
    "    def __str__(self):\n",
    "        return f\"Animal {self.name}\"\n",
    "class Dog(Animal):\n",
    " # notera att __init__ är nedärvd\n",
    " def __repr__(self):\n",
    "    return f\"Dog: {self.name}\"\n",
    "class Fish(Animal):\n",
    " def __repr__(self):\n",
    "    return f\"Fish: {self.name}\"\n",
    "# TO-DO: implementera PetOwner\n",
    "class PetOwner():\n",
    "    for \n",
    "\n",
    "# manuell test av PetOwner\n",
    "owner1 = PetOwner(\"Ada\",[\"Snoopy\", \"Pluto\"], [\"Fishy\", \"Buppy\"])\n",
    "owner2 = PetOwner(\"Beda\", [\"Barkly\"] )\n",
    "print(owner1)\n",
    "print(owner2)"
   ]
  },
  {
   "cell_type": "code",
   "execution_count": 5,
   "metadata": {},
   "outputs": [
    {
     "name": "stdout",
     "output_type": "stream",
     "text": [
      "e\n"
     ]
    }
   ],
   "source": [
    "frukter = [\"jordgubbe\", \"vindruva\", \"grape\"]\n",
    "godfrukt = frukter[2]\n",
    "print(godfrukt[-1])"
   ]
  },
  {
   "cell_type": "code",
   "execution_count": 5,
   "metadata": {},
   "outputs": [
    {
     "name": "stdout",
     "output_type": "stream",
     "text": [
      "Felaktig inmatning. Ange giltiga numeriska värden för radien och höjden.\n"
     ]
    }
   ],
   "source": [
    "import math\n",
    "\n",
    "def cylinder_volume(radius, height):\n",
    "    if radius <= 0 or height <= 0:\n",
    "        return \"Radien och höjden måste vara positiva tal.\"\n",
    "\n",
    "    volume = math.pi * radius**2 * height\n",
    "    return f\"Volymen av cylindern är {volume:.2f} kubikenheter.\"\n",
    "\n",
    "\n",
    "try:\n",
    "    radius = float(input(\"Ange radien på cylindern: \"))\n",
    "    height = float(input(\"Ange höjden på cylindern: \"))\n",
    "    result = cylinder_volume(radius, height)\n",
    "    print(result)\n",
    "except ValueError:\n",
    "    print(\"Felaktig inmatning. Ange giltiga numeriska värden för radien och höjden.\")\n",
    "\n"
   ]
  },
  {
   "cell_type": "code",
   "execution_count": 7,
   "metadata": {},
   "outputs": [
    {
     "name": "stdout",
     "output_type": "stream",
     "text": [
      "Antal Enkronor: 166794\n",
      "Antal Tvåkronor: 166592\n",
      "Antal Femkronor: 165938\n",
      "Antal Tior: 167369\n",
      "Antal Tjugolappar: 166497\n",
      "Antal Femtiolappar: 166810\n"
     ]
    }
   ],
   "source": [
    "import random\n",
    "\n",
    "# Initialize variables to count each denomination\n",
    "enkrona_count = 0\n",
    "tvakrona_count = 0\n",
    "femkrona_count = 0\n",
    "tia_count = 0\n",
    "tjugolapp_count = 0\n",
    "femtiolapp_count = 0\n",
    "\n",
    "# Simulate 1,000,000 dice rolls\n",
    "for _ in range(1000000):\n",
    "    roll = random.randint(1, 6)\n",
    "    \n",
    "    if roll == 1:\n",
    "        enkrona_count += 1\n",
    "    elif roll == 2:\n",
    "        tvakrona_count += 1\n",
    "    elif roll == 3:\n",
    "        femkrona_count += 1\n",
    "    elif roll == 4:\n",
    "        tia_count += 1\n",
    "    elif roll == 5:\n",
    "        tjugolapp_count += 1\n",
    "    elif roll == 6:\n",
    "        femtiolapp_count += 1\n",
    "\n",
    "# Display the counts for each denomination\n",
    "print(f\"Antal Enkronor: {enkrona_count}\")\n",
    "print(f\"Antal Tvåkronor: {tvakrona_count}\")\n",
    "print(f\"Antal Femkronor: {femkrona_count}\")\n",
    "print(f\"Antal Tior: {tia_count}\")\n",
    "print(f\"Antal Tjugolappar: {tjugolapp_count}\")\n",
    "print(f\"Antal Femtiolappar: {femtiolapp_count}\")\n"
   ]
  },
  {
   "cell_type": "code",
   "execution_count": 8,
   "metadata": {},
   "outputs": [
    {
     "name": "stdout",
     "output_type": "stream",
     "text": [
      "Antal ettor: 166743\n",
      "Antal tvåor: 166095\n",
      "Antal treor: 166801\n",
      "Antal fyror: 166594\n",
      "Antal femmor: 166768\n",
      "Antal sexor: 166999\n"
     ]
    }
   ],
   "source": [
    "import random\n",
    "\n",
    "# Initialize variables to count each number\n",
    "count_ones = 0\n",
    "count_twos = 0\n",
    "count_threes = 0\n",
    "count_fours = 0\n",
    "count_fives = 0\n",
    "count_sixes = 0\n",
    "\n",
    "# Simulate 1,000,000 dice rolls\n",
    "for _ in range(1000000):\n",
    "    # Simulate a dice roll (random number between 1 and 6)\n",
    "    roll = random.randint(1, 6)\n",
    "    \n",
    "    # Increment the corresponding count\n",
    "    if roll == 1:\n",
    "        count_ones += 1\n",
    "    elif roll == 2:\n",
    "        count_twos += 1\n",
    "    elif roll == 3:\n",
    "        count_threes += 1\n",
    "    elif roll == 4:\n",
    "        count_fours += 1\n",
    "    elif roll == 5:\n",
    "        count_fives += 1\n",
    "    elif roll == 6:\n",
    "        count_sixes += 1\n",
    "\n",
    "# Display the counts for each number\n",
    "print(f\"Antal ettor: {count_ones}\")\n",
    "print(f\"Antal tvåor: {count_twos}\")\n",
    "print(f\"Antal treor: {count_threes}\")\n",
    "print(f\"Antal fyror: {count_fours}\")\n",
    "print(f\"Antal femmor: {count_fives}\")\n",
    "print(f\"Antal sexor: {count_sixes}\")\n"
   ]
  },
  {
   "cell_type": "code",
   "execution_count": 13,
   "metadata": {},
   "outputs": [
    {
     "name": "stdout",
     "output_type": "stream",
     "text": [
      "78.53981633974483\n"
     ]
    }
   ],
   "source": [
    "from math import pi\n",
    "\n",
    "def circle_area(radius):\n",
    "    return pi*radius**2\n",
    "\n",
    "while True:\n",
    "    try:\n",
    "        radius = float(input(\"Input radius: \"))\n",
    "        print(circle_area(radius))\n",
    "        break\n",
    "    \n",
    "    except ValueError:\n",
    "        print(\"Please input only numbers!\")"
   ]
  }
 ],
 "metadata": {
  "kernelspec": {
   "display_name": "Python 3",
   "language": "python",
   "name": "python3"
  },
  "language_info": {
   "codemirror_mode": {
    "name": "ipython",
    "version": 3
   },
   "file_extension": ".py",
   "mimetype": "text/x-python",
   "name": "python",
   "nbconvert_exporter": "python",
   "pygments_lexer": "ipython3",
   "version": "3.11.5"
  }
 },
 "nbformat": 4,
 "nbformat_minor": 2
}
