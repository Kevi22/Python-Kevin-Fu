{
 "cells": [
  {
   "cell_type": "code",
   "execution_count": 87,
   "metadata": {},
   "outputs": [
    {
     "name": "stdout",
     "output_type": "stream",
     "text": [
      "positive number\n"
     ]
    }
   ],
   "source": [
    "#exercise1 check\n",
    "num = float(input(\"Enter a number: \"))\n",
    "\n",
    "if num > 0: \n",
    "    print(\"positive number\")\n",
    "elif num == 0:\n",
    "    print(\"zero\")\n",
    "else: \n",
    "    print(\"neagtive number\")"
   ]
  },
  {
   "cell_type": "code",
   "execution_count": 40,
   "metadata": {},
   "outputs": [
    {
     "name": "stdout",
     "output_type": "stream",
     "text": [
      "323232\n"
     ]
    }
   ],
   "source": [
    "#exercise2 smallest\n",
    "\n",
    "x = input(\"Enter first numbers: \")\n",
    "\n",
    "y = input(\"Enter second numbers: \")\n",
    "\n",
    "\n",
    "if x < y:\n",
    "    print(x)"
   ]
  },
  {
   "cell_type": "code",
   "execution_count": 56,
   "metadata": {},
   "outputs": [
    {
     "name": "stdout",
     "output_type": "stream",
     "text": [
      "It is a triangle \n"
     ]
    }
   ],
   "source": [
    "#exercies 3\n",
    "x = float(input(\"Enter angle one: \"))\n",
    "\n",
    "y = float(input(\"Enter angle two: \"))\n",
    "\n",
    "z = float(input(\"Enter angle three: \"))\n",
    "\n",
    "x+y+z == 180\n",
    "if x == 90:\n",
    "     print(\"It is a triangle \")\n",
    "\n",
    "elif y == 90:   \n",
    "    print(\"It is a triangle \")\n",
    "elif z == 90:\n",
    "    print(\"It is a triangle \")\n",
    "else: \n",
    "    print(\"Angles do not make a triangle\")\n"
   ]
  },
  {
   "cell_type": "code",
   "execution_count": 78,
   "metadata": {},
   "outputs": [
    {
     "name": "stdout",
     "output_type": "stream",
     "text": [
      "It is a triangle \n"
     ]
    }
   ],
   "source": [
    "#test01\n",
    "x = float(input(\"Enter angle one: \"))\n",
    "y = float(input(\"Enter angle two: \"))\n",
    "z = float(input(\"Enter angle three: \"))\n",
    "\n",
    "if x+y+z == 180 and (x == 90 or y == 90 or z == 90):\n",
    "\n",
    "    print(\"It is a triangle \")\n",
    "\n",
    "else:\n",
    "    print(\"Angles do not make a triangle\")\n"
   ]
  },
  {
   "cell_type": "code",
   "execution_count": 84,
   "metadata": {},
   "outputs": [
    {
     "name": "stdout",
     "output_type": "stream",
     "text": [
      "It is a triangle \n"
     ]
    }
   ],
   "source": [
    "#TEST02\n",
    "x = 40\n",
    "y = 90\n",
    "z = 50\n",
    "if (x+y+z == 180 and x == 90) or (y == 90) or (z == 90):\n",
    "    print(\"It is a triangle \")\n",
    "else:\n",
    "    print(\"Angles do not make a triangle\")\n"
   ]
  },
  {
   "cell_type": "code",
   "execution_count": 48,
   "metadata": {},
   "outputs": [],
   "source": [
    "#exercies 4\n",
    "age=float(input(\"Enter age: \"))\n",
    "\n",
    "weight=float(input(\"Enter weight: \"))\n",
    "\n",
    "if age > 12 and weight > 40:\n",
    "    print(\"Recommended number of pills is 1-2\")\n",
    "\n",
    "elif (age >= 7 and age <= 12) and (weight >= 26 and weight <= 40):\n",
    "    print(\"Recommended number of pills is 1/2-1\")\n",
    "\n",
    "elif (age >= 3 and age <= 7) and (weight >= 15 and weight <= 25):\n",
    "    print(\"Recommended number of pills is 1/2\")\n",
    "\n",
    "\n"
   ]
  },
  {
   "cell_type": "code",
   "execution_count": 92,
   "metadata": {},
   "outputs": [
    {
     "name": "stdout",
     "output_type": "stream",
     "text": [
      "49 is odd\n",
      "not divisible by 5\n"
     ]
    }
   ],
   "source": [
    "#exercies 5\n",
    "num=int(input(\"Enter a number\"))\n",
    "\n",
    "if (num % 2) == 0:\n",
    "    print(\"{0} is even\".format (num))\n",
    "else:\n",
    "     print(\"{0} is odd\".format (num))\n",
    "if (num % 5== 0):\n",
    "         print(\"{0} is divisible\".format (num))\n",
    "else:\n",
    "      print(\"not divisible by 5\")\n"
   ]
  }
 ],
 "metadata": {
  "kernelspec": {
   "display_name": "Python 3",
   "language": "python",
   "name": "python3"
  },
  "language_info": {
   "codemirror_mode": {
    "name": "ipython",
    "version": 3
   },
   "file_extension": ".py",
   "mimetype": "text/x-python",
   "name": "python",
   "nbconvert_exporter": "python",
   "pygments_lexer": "ipython3",
   "version": "3.11.5"
  },
  "orig_nbformat": 4
 },
 "nbformat": 4,
 "nbformat_minor": 2
}
