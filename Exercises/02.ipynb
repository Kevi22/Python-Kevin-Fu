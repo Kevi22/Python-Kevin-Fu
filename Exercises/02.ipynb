{
 "cells": [
  {
   "cell_type": "markdown",
   "metadata": {},
   "source": []
  },
  {
   "cell_type": "code",
   "execution_count": 1,
   "metadata": {},
   "outputs": [
    {
     "name": "stdout",
     "output_type": "stream",
     "text": [
      "0.821917808219178\n"
     ]
    }
   ],
   "source": [
    "#2\n",
    "accuracy = 300 / 365\n",
    "print(accuracy)"
   ]
  },
  {
   "cell_type": "code",
   "execution_count": 10,
   "metadata": {},
   "outputs": [
    {
     "name": "stdout",
     "output_type": "stream",
     "text": [
      "-10\n",
      "-9\n",
      "-8\n",
      "-7\n",
      "-6\n",
      "-5\n",
      "-4\n",
      "-3\n",
      "-2\n",
      "-1\n",
      "0\n",
      "1\n",
      "2\n",
      "3\n",
      "4\n",
      "5\n",
      "6\n",
      "7\n",
      "8\n",
      "9\n",
      "10\n"
     ]
    }
   ],
   "source": [
    "#1 count numbers\n",
    "count = - 10\n",
    "\n",
    "while count <= 10:\n",
    "    print(count)\n",
    "    count += 1\n"
   ]
  },
  {
   "cell_type": "code",
   "execution_count": 52,
   "metadata": {},
   "outputs": [
    {
     "name": "stdout",
     "output_type": "stream",
     "text": [
      "the answer = 5050\n"
     ]
    }
   ],
   "source": [
    "#2 aritmetic sum\n",
    "result = 0\n",
    "num = 1\n",
    "while num <= 100:\n",
    "    result += num\n",
    "    num += 1\n",
    "print (\"the answer =\",result)"
   ]
  },
  {
   "cell_type": "code",
   "execution_count": 75,
   "metadata": {},
   "outputs": [
    {
     "name": "stdout",
     "output_type": "stream",
     "text": [
      "Try again, your guess is to low\n",
      "Try again, your guess is to low\n",
      "Try again, your guess is too high\n",
      "Try again, your guess is too high\n",
      "Congratulations!, you guessed the right number\n"
     ]
    }
   ],
   "source": [
    "#3 guess number game\n",
    "import random\n",
    "right_num = random.randint(1,100)\n",
    "guesses = 0\n",
    "\n",
    "while True:\n",
    "    guess = int(input(\"Enter number to guess\"))\n",
    "    guesses += 1\n",
    "\n",
    "    if  guess  == right_num:\n",
    "        print(\"Congratulations!, you guessed the right number\")\n",
    "        break\n",
    "    elif guess < right_num:\n",
    "        print(\"Try again, your guess is to low\")\n",
    "\n",
    "    else:\n",
    "        print(\"Try again, your guess is too high\")\n",
    "\n"
   ]
  },
  {
   "cell_type": "code",
   "execution_count": 49,
   "metadata": {},
   "outputs": [
    {
     "name": "stdout",
     "output_type": "stream",
     "text": [
      "What is 6x1?\n",
      "Thank you for playing, you guessed the right answer, 6\n"
     ]
    },
    {
     "ename": "NameError",
     "evalue": "name 'Yes' is not defined",
     "output_type": "error",
     "traceback": [
      "\u001b[0;31m---------------------------------------------------------------------------\u001b[0m",
      "\u001b[0;31mNameError\u001b[0m                                 Traceback (most recent call last)",
      "Cell \u001b[0;32mIn[49], line 29\u001b[0m\n\u001b[1;32m     25\u001b[0m             \u001b[39mbreak\u001b[39;00m\n\u001b[1;32m     28\u001b[0m \u001b[39mif\u001b[39;00m \u001b[39m__name__\u001b[39m \u001b[39m==\u001b[39m \u001b[39m\"\u001b[39m\u001b[39m__main__\u001b[39m\u001b[39m\"\u001b[39m:\n\u001b[0;32m---> 29\u001b[0m     main()\n",
      "Cell \u001b[0;32mIn[49], line 23\u001b[0m, in \u001b[0;36mmain\u001b[0;34m()\u001b[0m\n\u001b[1;32m     18\u001b[0m     \u001b[39mprint\u001b[39m(\u001b[39mf\u001b[39m\u001b[39m\"\u001b[39m\u001b[39mThank you for playing, you gussed the wrong, The righ answer: \u001b[39m\u001b[39m{\u001b[39;00mcorrect_result\u001b[39m}\u001b[39;00m\u001b[39m\"\u001b[39m)\n\u001b[1;32m     21\u001b[0m play_again \u001b[39m=\u001b[39m \u001b[39minput\u001b[39m(\u001b[39m\"\u001b[39m\u001b[39mDo you want to play again ? yes/no: \u001b[39m\u001b[39m\"\u001b[39m)\u001b[39m.\u001b[39mstrip()\u001b[39m.\u001b[39mlower()\n\u001b[0;32m---> 23\u001b[0m \u001b[39mif\u001b[39;00m play_again \u001b[39m!=\u001b[39m Yes:\n\u001b[1;32m     24\u001b[0m     \u001b[39mprint\u001b[39m(\u001b[39m\"\u001b[39m\u001b[39mThank you for playing\u001b[39m\u001b[39m\"\u001b[39m)\n\u001b[1;32m     25\u001b[0m     \u001b[39mbreak\u001b[39;00m\n",
      "\u001b[0;31mNameError\u001b[0m: name 'Yes' is not defined"
     ]
    }
   ],
   "source": [
    "#4 multiplication game\n",
    "import random\n",
    "def random_numbers():\n",
    "    num1 = random.randint(1, 10)\n",
    "    num2 = random.randint(1, 10)\n",
    "    return num1, num2\n",
    "\n",
    "def main ():\n",
    "    while True:\n",
    "        num1, num2 = random_numbers()\n",
    "        correct_result = num1*num2\n",
    "        print(f\"What is {num1}x{num2}?\")   \n",
    "        user = int(input(\"What's your guess ?\"))\n",
    "        \n",
    "        if user == correct_result:\n",
    "            print(f\"Thank you for playing, you guessed the right answer, {correct_result}\")\n",
    "        else:\n",
    "            print(f\"Thank you for playing, you gussed the wrong, The righ answer: {correct_result}\")\n",
    "            \n",
    "\n",
    "        play_again = input(\"Do you want to play again ? yes/no: \")\n",
    "\n",
    "        if play_again != Yes:\n",
    "            print(\"Thank you for playing\")\n",
    "            break\n",
    "\n",
    "\n",
    "if __name__ == \"__main__\":\n",
    "    main()\n"
   ]
  },
  {
   "cell_type": "code",
   "execution_count": null,
   "metadata": {},
   "outputs": [],
   "source": [
    "#5 check convergence\n",
    "\n"
   ]
  }
 ],
 "metadata": {
  "kernelspec": {
   "display_name": "Python 3",
   "language": "python",
   "name": "python3"
  },
  "language_info": {
   "codemirror_mode": {
    "name": "ipython",
    "version": 3
   },
   "file_extension": ".py",
   "mimetype": "text/x-python",
   "name": "python",
   "nbconvert_exporter": "python",
   "pygments_lexer": "ipython3",
   "version": "3.11.5"
  },
  "orig_nbformat": 4
 },
 "nbformat": 4,
 "nbformat_minor": 2
}
