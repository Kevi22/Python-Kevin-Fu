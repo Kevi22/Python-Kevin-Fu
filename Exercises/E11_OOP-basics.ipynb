{
 "cells": [
  {
   "cell_type": "code",
   "execution_count": 31,
   "metadata": {},
   "outputs": [
    {
     "name": "stdout",
     "output_type": "stream",
     "text": [
      "Total steps walked: 1000\n"
     ]
    }
   ],
   "source": [
    "class Steptracker:\n",
    "    def __init__(self):\n",
    "        self._steps = 0\n",
    "    \n",
    "    @property\n",
    "    def steps(self):\n",
    "        return self._steps\n",
    "    \n",
    "    def step(self):\n",
    "        self._steps += 1\n",
    "   \n",
    "    def reset(self):\n",
    "        self._steps = 0\n",
    "\n",
    "tracker = Steptracker()\n",
    "\n",
    "for i in range(1000):\n",
    "    tracker.step()\n",
    "\n",
    "print(\"Total steps walked:\", tracker.steps)\n"
   ]
  },
  {
   "cell_type": "code",
   "execution_count": 60,
   "metadata": {},
   "outputs": [
    {
     "name": "stdout",
     "output_type": "stream",
     "text": [
      "Filling the glass...\n",
      "Emptying glass...\n",
      "Glass is breaking and water is all over the floor\n",
      "Glass is broke and cant be filled\n",
      "Glass is broken so it's already empty\n",
      "Glass is broke and cant be filled\n"
     ]
    }
   ],
   "source": [
    "class Glass:\n",
    "    def __init__(self):\n",
    "        self.is_empty = True\n",
    "        self.is_broken = False\n",
    "    \n",
    "    def fill(self):\n",
    "        if not self.is_broken:\n",
    "            if self.is_empty:     \n",
    "                print(\"Filling the glass...\") \n",
    "                self.is_empty = False\n",
    "            else:\n",
    "                print(\"Glass already full\")\n",
    "        else:\n",
    "            print(\"Glass is broke and cant be filled\")\n",
    "    \n",
    "    def empty(self):\n",
    "        if not self.is_broken:\n",
    "            if not self.is_empty:\n",
    "                print(\"Emptying glass...\")\n",
    "                self.is_empty = True\n",
    "            else: \n",
    "                print(\"Glass is already empty\")\n",
    "        else:\n",
    "            print(\"Glass is broken so it's already empty\")\n",
    "    \n",
    "    def break_glass(self):\n",
    "        if not self.is_broken:\n",
    "            print(\"Glass is breaking and water is all over the floor\")\n",
    "            self.is_empty = True\n",
    "            self.is_broken = True\n",
    "        else:\n",
    "            print(\"Glass is already broken\")\n",
    "  \n",
    "my_glass = Glass()\n",
    "my_glass.fill()\n",
    "my_glass.empty()\n",
    "my_glass.break_glass()\n",
    "my_glass.fill()\n",
    "my_glass.empty()\n",
    "my_glass.fill()\n",
    "\n"
   ]
  },
  {
   "cell_type": "code",
   "execution_count": 8,
   "metadata": {},
   "outputs": [
    {
     "name": "stdout",
     "output_type": "stream",
     "text": [
      "Blue: 50.5\n",
      "Red: 49.5\n",
      "Blue: 75.58\n",
      "Red: 24.42\n"
     ]
    }
   ],
   "source": [
    "class Color:\n",
    "    def __init__(self):\n",
    "        self._blue = 100\n",
    "        self._red = 0\n",
    "    \n",
    "    @property\n",
    "    def red(self):\n",
    "        return self._red\n",
    "    @red.setter\n",
    "\n",
    "    def red(self, value):\n",
    "        if 0 <= value <=100:\n",
    "            self._red = value\n",
    "            self._blue = 100 - value \n",
    "        else:\n",
    "            raise ValueError(\"Red value must be between 0 and 100\")\n",
    "        \n",
    "    @property\n",
    "    def blue(self):\n",
    "        return self._blue\n",
    "    \n",
    "    @blue.setter\n",
    "    def blue(self, value):\n",
    "        if 0 <= value <=100:\n",
    "            self._blue = value\n",
    "            self._red = 100 - value \n",
    "        else:\n",
    "            raise ValueError(\"Red value must be between 0 and 100\")\n",
    "\n",
    "color = Color()\n",
    "color.blue = 50.5\n",
    "print(\"Blue:\", color.blue)\n",
    "print(\"Red:\", color.red)\n",
    "\n",
    "color.red = 24.42\n",
    "print(\"Blue:\", color.blue)\n",
    "print(\"Red:\", color.red)\n",
    "        "
   ]
  }
 ],
 "metadata": {
  "kernelspec": {
   "display_name": "Python 3",
   "language": "python",
   "name": "python3"
  },
  "language_info": {
   "codemirror_mode": {
    "name": "ipython",
    "version": 3
   },
   "file_extension": ".py",
   "mimetype": "text/x-python",
   "name": "python",
   "nbconvert_exporter": "python",
   "pygments_lexer": "ipython3",
   "version": "3.11.5"
  },
  "orig_nbformat": 4
 },
 "nbformat": 4,
 "nbformat_minor": 2
}
