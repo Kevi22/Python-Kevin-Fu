{
 "cells": [
  {
   "cell_type": "code",
   "execution_count": 31,
   "metadata": {},
   "outputs": [
    {
     "name": "stdout",
     "output_type": "stream",
     "text": [
      "Total steps walked: 1000\n"
     ]
    }
   ],
   "source": [
    "class Steptracker:\n",
    "    def __init__(self):\n",
    "        self._steps = 0\n",
    "    \n",
    "    @property\n",
    "    def steps(self):\n",
    "        return self._steps\n",
    "    \n",
    "    def step(self):\n",
    "        self._steps += 1\n",
    "   \n",
    "    def reset(self):\n",
    "        self._steps = 0\n",
    "\n",
    "tracker = Steptracker()\n",
    "\n",
    "for i in range(1000):\n",
    "    tracker.step()\n",
    "\n",
    "print(\"Total steps walked:\", tracker.steps)\n"
   ]
  },
  {
   "cell_type": "code",
   "execution_count": 49,
   "metadata": {},
   "outputs": [
    {
     "name": "stdout",
     "output_type": "stream",
     "text": [
      "Filling the glass...\n",
      "Emptying glass...\n",
      "Glass is breaking and water is all over the floor\n",
      "Glass is broke and cant be filled\n",
      "Glass is broken so it's already empty\n",
      "Glass is broke and cant be filled\n"
     ]
    }
   ],
   "source": [
    "class Glass:\n",
    "    def __init__(self):\n",
    "        self.is_empty = True\n",
    "        self.is_broken = False\n",
    "    \n",
    "    def fill(self):\n",
    "        if not self.is_broken:\n",
    "            if self.is_empty:     \n",
    "                print(\"Filling the glass...\") \n",
    "                self.is_empty = False\n",
    "            else:\n",
    "                print(\"Glass already full\")\n",
    "        else:\n",
    "            print(\"Glass is broke and cant be filled\")\n",
    "    \n",
    "    def empty(self):\n",
    "        if not self.is_broken:\n",
    "            if not self.is_empty:\n",
    "                print(\"Emptying glass...\")\n",
    "                self.is_empty = True\n",
    "            else: \n",
    "                print(\"Glass is already empty\")\n",
    "        else:\n",
    "            print(\"Glass is broken so it's already empty\")\n",
    "    \n",
    "    def break_glass(self):\n",
    "        if not self.is_broken:\n",
    "            print(\"Glass is breaking and water is all over the floor\")\n",
    "            self.is_empty = True\n",
    "            self.is_broken = True\n",
    "        else:\n",
    "            print(\"Glass is already broken\")\n",
    "  \n",
    "my_glass = Glass()\n",
    "\n",
    "\n",
    "my_glass.fill()\n",
    "my_glass.empty()\n",
    "my_glass.break_glass()\n",
    "my_glass.fill()\n",
    "my_glass.empty()\n",
    "my_glass.fill()\n"
   ]
  }
 ],
 "metadata": {
  "kernelspec": {
   "display_name": "Python 3",
   "language": "python",
   "name": "python3"
  },
  "language_info": {
   "codemirror_mode": {
    "name": "ipython",
    "version": 3
   },
   "file_extension": ".py",
   "mimetype": "text/x-python",
   "name": "python",
   "nbconvert_exporter": "python",
   "pygments_lexer": "ipython3",
   "version": "3.11.5"
  },
  "orig_nbformat": 4
 },
 "nbformat": 4,
 "nbformat_minor": 2
}
